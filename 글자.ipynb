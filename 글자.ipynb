{
 "cells": [
  {
   "cell_type": "code",
   "execution_count": 3,
   "metadata": {},
   "outputs": [
    {
     "name": "stdout",
     "output_type": "stream",
     "text": [
      "암호문(NUMBER) : [104, 327, 301, 168, 283, 117, 54, 168]\n",
      "암호문(ASCII) : hŇĭ¨ěu6¨\n",
      "N : 377\n",
      "공개키 : 5\n",
      "개인키 : 269\n"
     ]
    },
    {
     "data": {
      "text/plain": [
       "''"
      ]
     },
     "execution_count": 3,
     "metadata": {},
     "output_type": "execute_result"
    }
   ],
   "source": [
    "p = 13\n",
    "q = 29\n",
    "n = p * q\n",
    "tot = (p - 1) * (q - 1)\n",
    "\n",
    "#최대공약수 구하는 거\n",
    "def gcd(num1, num2):\n",
    "    while num2 != 0:\n",
    "        num1, num2 = num2, num1%num2\n",
    "    return num1\n",
    "\n",
    "#공개키\n",
    "def publickey():\n",
    "    global tot\n",
    "    e = 2\n",
    "    while e<tot and gcd(e, tot) != 1:\n",
    "        e += 1\n",
    "    return e\n",
    "\n",
    "#개인키\n",
    "def privatekey():\n",
    "    global e\n",
    "    global tot\n",
    "    d = 1\n",
    "    while (publickey() * d) % tot != 1 or d == publickey():\n",
    "        d += 1\n",
    "    return d\n",
    "\n",
    "ori = (input(\"평서문 : \"))\n",
    "oris = list(ori)\n",
    "orior = []\n",
    "eori = []\n",
    "\n",
    "etext = \"\"\n",
    "for orisc in range(0, len(oris)):\n",
    "    orior.append(ord(oris[orisc]))\n",
    "for oriorc in range(0, len(orior)):\n",
    "    eori.append(((orior[oriorc]**publickey())%n))\n",
    "for eoric in range(0, len(eori)):\n",
    "    etext += (chr(eori[eoric]))\n",
    "\n",
    "print(\"암호문(NUMBER) : {}\".format(eori))\n",
    "print(\"암호문(ASCII) : {}\".format(etext))\n",
    "print(\"N : {}\".format(n))\n",
    "print(\"공개키 : {}\".format(publickey()))\n",
    "print(\"개인키 : {}\".format(privatekey()))\n",
    "\n",
    "input()"
   ]
  },
  {
   "cell_type": "code",
   "execution_count": 4,
   "metadata": {},
   "outputs": [
    {
     "name": "stdout",
     "output_type": "stream",
     "text": [
      "평서문 : ha gyung\n"
     ]
    },
    {
     "data": {
      "text/plain": [
       "''"
      ]
     },
     "execution_count": 4,
     "metadata": {},
     "output_type": "execute_result"
    }
   ],
   "source": [
    "n = int(input(\"N의 값을 입력하세요 : \"))\n",
    "eori = (input(\"암호문을 입력하세요 : \"))\n",
    "\n",
    "d = int(input(\"개인키를 입력하세요 : \"))\n",
    "\n",
    "eoris = list(eori)\n",
    "eroiso = []\n",
    "eroisor = []\n",
    "eroar = []\n",
    "text = \"\"\n",
    "for eorisc in range(0, len(eoris)):\n",
    "    eroiso.append(ord(eoris[eorisc]))\n",
    "for eroisoc in range(0, len(eroiso)):\n",
    "    eroisor.append((eroiso[eroisoc]**d)%n)\n",
    "for eroisorc in range(0, len(eroisor)):\n",
    "    eroar.append(chr(eroisor[eroisorc]))\n",
    "for eroarc in range(0, len(eroar)):\n",
    "    text += eroar[eroarc]\n",
    "\n",
    "print(\"평서문 : {}\".format(text))\n",
    "input()"
   ]
  },
  {
   "cell_type": "code",
   "execution_count": null,
   "metadata": {},
   "outputs": [],
   "source": []
  }
 ],
 "metadata": {
  "kernelspec": {
   "display_name": "Python 3",
   "language": "python",
   "name": "python3"
  },
  "language_info": {
   "codemirror_mode": {
    "name": "ipython",
    "version": 3
   },
   "file_extension": ".py",
   "mimetype": "text/x-python",
   "name": "python",
   "nbconvert_exporter": "python",
   "pygments_lexer": "ipython3",
   "version": "3.10.9"
  },
  "orig_nbformat": 4,
  "vscode": {
   "interpreter": {
    "hash": "f3d46c380bd04fd41d57896bf462062bafa60a49c1ebc617dfe72a1bd4f0efe2"
   }
  }
 },
 "nbformat": 4,
 "nbformat_minor": 2
}
